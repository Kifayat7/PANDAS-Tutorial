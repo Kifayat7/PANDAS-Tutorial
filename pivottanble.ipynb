{
 "cells": [
  {
   "cell_type": "code",
   "execution_count": 1,
   "id": "06b2ee1d",
   "metadata": {},
   "outputs": [
    {
     "data": {
      "text/html": [
       "<div>\n",
       "<style scoped>\n",
       "    .dataframe tbody tr th:only-of-type {\n",
       "        vertical-align: middle;\n",
       "    }\n",
       "\n",
       "    .dataframe tbody tr th {\n",
       "        vertical-align: top;\n",
       "    }\n",
       "\n",
       "    .dataframe thead th {\n",
       "        text-align: right;\n",
       "    }\n",
       "</style>\n",
       "<table border=\"1\" class=\"dataframe\">\n",
       "  <thead>\n",
       "    <tr style=\"text-align: right;\">\n",
       "      <th></th>\n",
       "      <th>Product</th>\n",
       "      <th>Category</th>\n",
       "      <th>Quantity</th>\n",
       "      <th>Amount</th>\n",
       "    </tr>\n",
       "  </thead>\n",
       "  <tbody>\n",
       "    <tr>\n",
       "      <th>0</th>\n",
       "      <td>Carrots</td>\n",
       "      <td>Vegetable</td>\n",
       "      <td>8</td>\n",
       "      <td>270</td>\n",
       "    </tr>\n",
       "    <tr>\n",
       "      <th>1</th>\n",
       "      <td>Broccoli</td>\n",
       "      <td>Vegetable</td>\n",
       "      <td>5</td>\n",
       "      <td>239</td>\n",
       "    </tr>\n",
       "    <tr>\n",
       "      <th>2</th>\n",
       "      <td>Banana</td>\n",
       "      <td>Fruit</td>\n",
       "      <td>3</td>\n",
       "      <td>617</td>\n",
       "    </tr>\n",
       "    <tr>\n",
       "      <th>3</th>\n",
       "      <td>Banana</td>\n",
       "      <td>Fruit</td>\n",
       "      <td>4</td>\n",
       "      <td>384</td>\n",
       "    </tr>\n",
       "    <tr>\n",
       "      <th>4</th>\n",
       "      <td>Beans</td>\n",
       "      <td>Vegetable</td>\n",
       "      <td>5</td>\n",
       "      <td>626</td>\n",
       "    </tr>\n",
       "    <tr>\n",
       "      <th>5</th>\n",
       "      <td>Orange</td>\n",
       "      <td>Fruit</td>\n",
       "      <td>9</td>\n",
       "      <td>610</td>\n",
       "    </tr>\n",
       "    <tr>\n",
       "      <th>6</th>\n",
       "      <td>Broccoli</td>\n",
       "      <td>Vegetable</td>\n",
       "      <td>11</td>\n",
       "      <td>62</td>\n",
       "    </tr>\n",
       "    <tr>\n",
       "      <th>7</th>\n",
       "      <td>Banana</td>\n",
       "      <td>Fruit</td>\n",
       "      <td>8</td>\n",
       "      <td>90</td>\n",
       "    </tr>\n",
       "  </tbody>\n",
       "</table>\n",
       "</div>"
      ],
      "text/plain": [
       "    Product   Category  Quantity  Amount\n",
       "0   Carrots  Vegetable         8     270\n",
       "1  Broccoli  Vegetable         5     239\n",
       "2    Banana      Fruit         3     617\n",
       "3    Banana      Fruit         4     384\n",
       "4     Beans  Vegetable         5     626\n",
       "5    Orange      Fruit         9     610\n",
       "6  Broccoli  Vegetable        11      62\n",
       "7    Banana      Fruit         8      90"
      ]
     },
     "execution_count": 1,
     "metadata": {},
     "output_type": "execute_result"
    }
   ],
   "source": [
    "# importing pandas\n",
    "import pandas as pd\n",
    "\n",
    "# creating dataframe\n",
    "df = pd.DataFrame({'Product': ['Carrots', 'Broccoli', 'Banana', 'Banana',\n",
    "\t\t\t\t\t\t\t'Beans', 'Orange', 'Broccoli', 'Banana'],\n",
    "\t\t\t\t'Category': ['Vegetable', 'Vegetable', 'Fruit', 'Fruit',\n",
    "\t\t\t\t\t\t\t\t'Vegetable', 'Fruit', 'Vegetable', 'Fruit'],\n",
    "\t\t\t\t'Quantity': [8, 5, 3, 4, 5, 9, 11, 8],\n",
    "\t\t\t\t'Amount': [270, 239, 617, 384, 626, 610, 62, 90]})\n",
    "df\n"
   ]
  },
  {
   "cell_type": "code",
   "execution_count": 2,
   "id": "4c6f0ab2",
   "metadata": {},
   "outputs": [
    {
     "name": "stdout",
     "output_type": "stream",
     "text": [
      "          Amount\n",
      "Product         \n",
      "Banana      1091\n",
      "Beans        626\n",
      "Broccoli     301\n",
      "Carrots      270\n",
      "Orange       610\n"
     ]
    }
   ],
   "source": [
    "pivot = df.pivot_table(index=['Product'],\n",
    "\t\t\t\t\tvalues=['Amount'],\n",
    "\t\t\t\t\taggfunc='sum')\n",
    "print(pivot)\n"
   ]
  },
  {
   "cell_type": "code",
   "execution_count": 7,
   "id": "11518380",
   "metadata": {},
   "outputs": [
    {
     "name": "stdout",
     "output_type": "stream",
     "text": [
      "           Amount\n",
      "Category         \n",
      "Fruit        1701\n",
      "Vegetable    1197\n"
     ]
    }
   ],
   "source": [
    "pivot=df.pivot_table(index=[\"Category\"],values=[\"Amount\"],aggfunc=\"sum\")\n",
    "print(pivot)"
   ]
  },
  {
   "cell_type": "code",
   "execution_count": 14,
   "id": "1776340c",
   "metadata": {},
   "outputs": [
    {
     "name": "stdout",
     "output_type": "stream",
     "text": [
      "                    Amount\n",
      "Product  Category         \n",
      "Banana   Fruit        1091\n",
      "Beans    Vegetable     626\n",
      "Broccoli Vegetable     301\n",
      "Carrots  Vegetable     270\n",
      "Orange   Fruit         610\n",
      "tottal amount is: 2898\n"
     ]
    }
   ],
   "source": [
    "pivot=df.pivot_table(index=['Product','Category'],values=['Amount'],aggfunc=\"sum\")\n",
    "print(pivot)\n",
    "print(\"tottal amount is:\",df['Amount'].sum())"
   ]
  },
  {
   "cell_type": "code",
   "execution_count": 18,
   "id": "fcbf9229",
   "metadata": {},
   "outputs": [
    {
     "name": "stdout",
     "output_type": "stream",
     "text": [
      "                        Amount                  \n",
      "                          mean median  min   sum\n",
      "Product  Category                               \n",
      "Banana   Fruit      363.666667  384.0   90  1091\n",
      "Beans    Vegetable  626.000000  626.0  626   626\n",
      "Broccoli Vegetable  150.500000  150.5   62   301\n",
      "Carrots  Vegetable  270.000000  270.0  270   270\n",
      "Orange   Fruit      610.000000  610.0  610   610\n"
     ]
    }
   ],
   "source": [
    "pivot=df.pivot_table(index=['Product','Category'],values=['Amount'],aggfunc={\"sum\",\"mean\",\"median\",'min',})\n",
    "print(pivot)"
   ]
  },
  {
   "cell_type": "code",
   "execution_count": null,
   "id": "c36ed691",
   "metadata": {},
   "outputs": [],
   "source": []
  }
 ],
 "metadata": {
  "kernelspec": {
   "display_name": "base",
   "language": "python",
   "name": "python3"
  },
  "language_info": {
   "codemirror_mode": {
    "name": "ipython",
    "version": 3
   },
   "file_extension": ".py",
   "mimetype": "text/x-python",
   "name": "python",
   "nbconvert_exporter": "python",
   "pygments_lexer": "ipython3",
   "version": "3.11.5"
  }
 },
 "nbformat": 4,
 "nbformat_minor": 5
}
