{
 "cells": [
  {
   "cell_type": "code",
   "execution_count": 5,
   "id": "d7bc92f7",
   "metadata": {},
   "outputs": [
    {
     "name": "stdout",
     "output_type": "stream",
     "text": [
      "      Name  Age  Score\n",
      "0    Alice   25     85\n",
      "1      Bob   30     90\n",
      "2  Charlie   35     95\n",
      "3    David   40     80\n"
     ]
    }
   ],
   "source": [
    "import pandas as pd\n",
    "data = {'Name': ['Alice', 'Bob', 'Charlie', 'David'],\n",
    "        'Age': [25, 30, 35, 40],\n",
    "        'Score': [85, 90, 95, 80]}\n",
    "df = pd.DataFrame(data)\n",
    "print(df)"
   ]
  },
  {
   "cell_type": "code",
   "execution_count": 8,
   "id": "deff50fa",
   "metadata": {},
   "outputs": [
    {
     "name": "stdout",
     "output_type": "stream",
     "text": [
      "      Name  Age  Score\n",
      "0    David   40     80\n",
      "1    Alice   25     85\n",
      "2      Bob   30     90\n",
      "3  Charlie   35     95\n"
     ]
    }
   ],
   "source": [
    "sorted_df = df.sort_values(by='Score',ignore_index=True)\n",
    "print(sorted_df)"
   ]
  },
  {
   "cell_type": "code",
   "execution_count": 11,
   "id": "2a17bd52",
   "metadata": {},
   "outputs": [
    {
     "name": "stdout",
     "output_type": "stream",
     "text": [
      "      Name  Age  Score\n",
      "3    David   40     80\n",
      "2  Charlie   35     95\n",
      "1      Bob   30     90\n",
      "0    Alice   25     85\n"
     ]
    }
   ],
   "source": [
    "sorted_df = df.sort_values(by='Age',ascending=False)\n",
    "print(sorted_df)"
   ]
  },
  {
   "cell_type": "code",
   "execution_count": null,
   "id": "a503e7d5",
   "metadata": {},
   "outputs": [],
   "source": [
    "sorted_df = df.sort_values(by='Age')\n",
    "print(sorted_df)\n"
   ]
  },
  {
   "cell_type": "code",
   "execution_count": 12,
   "id": "49366566",
   "metadata": {},
   "outputs": [
    {
     "name": "stdout",
     "output_type": "stream",
     "text": [
      "Original DataFrame:\n",
      "       Name  Age\n",
      "0  Charlie   35\n",
      "1    Alice   25\n",
      "2      Bob   30\n",
      "3    David   20\n"
     ]
    }
   ],
   "source": [
    "import pandas as pd\n",
    "\n",
    "# Sample DataFrame\n",
    "df = pd.DataFrame({\n",
    "    'Name': ['Charlie', 'Alice', 'Bob', 'David'],\n",
    "    'Age': [35, 25, 30, 20]\n",
    "})\n",
    "\n",
    "print(\"Original DataFrame:\\n\", df)\n"
   ]
  },
  {
   "cell_type": "code",
   "execution_count": 13,
   "id": "4d670ca8",
   "metadata": {},
   "outputs": [
    {
     "name": "stdout",
     "output_type": "stream",
     "text": [
      "\n",
      "Sorted using Quicksort:\n",
      "       Name  Age\n",
      "3    David   20\n",
      "1    Alice   25\n",
      "2      Bob   30\n",
      "0  Charlie   35\n"
     ]
    }
   ],
   "source": [
    "# Sorting by Age using quicksort\n",
    "sorted_quick = df.sort_values(by='Age', kind='quicksort')\n",
    "print(\"\\nSorted using Quicksort:\\n\", sorted_quick)\n"
   ]
  },
  {
   "cell_type": "code",
   "execution_count": 14,
   "id": "79e3c89f",
   "metadata": {},
   "outputs": [
    {
     "name": "stdout",
     "output_type": "stream",
     "text": [
      "\n",
      "Sorted using Quicksort:\n",
      "       Name  Age\n",
      "3    David   20\n",
      "1    Alice   25\n",
      "2      Bob   30\n",
      "0  Charlie   35\n"
     ]
    }
   ],
   "source": [
    "# Sorting by Age using quicksort\n",
    "sorted_quick = df.sort_values(by='Age', kind='mergeksort')\n",
    "print(\"\\nSorted using Quicksort:\\n\", sorted_quick)\n"
   ]
  },
  {
   "cell_type": "code",
   "execution_count": 15,
   "id": "06df7ba1",
   "metadata": {},
   "outputs": [
    {
     "name": "stdout",
     "output_type": "stream",
     "text": [
      "\n",
      "Sorted using Quicksort:\n",
      "       Name  Age\n",
      "3    David   20\n",
      "1    Alice   25\n",
      "2      Bob   30\n",
      "0  Charlie   35\n"
     ]
    }
   ],
   "source": [
    "# Sorting by Age using quicksort\n",
    "sorted_quick = df.sort_values(by='Age', kind='heapsort')\n",
    "print(\"\\nSorted using Quicksort:\\n\", sorted_quick)\n"
   ]
  },
  {
   "cell_type": "code",
   "execution_count": 16,
   "id": "fcc5da6e",
   "metadata": {},
   "outputs": [
    {
     "name": "stdout",
     "output_type": "stream",
     "text": [
      "Original DataFrame:\n",
      "       Name  Age\n",
      "0    Alice   25\n",
      "1      Bob   30\n",
      "2  Charlie   25\n",
      "3    David   30\n",
      "4      Eve   25\n",
      "5    Frank   30\n"
     ]
    }
   ],
   "source": [
    "import pandas as pd\n",
    "\n",
    "# DataFrame with duplicate 'Age' values\n",
    "df = pd.DataFrame({\n",
    "    'Name': ['Alice', 'Bob', 'Charlie', 'David', 'Eve', 'Frank'],\n",
    "    'Age':  [25,     30,   25,       30,      25,    30]\n",
    "})\n",
    "\n",
    "print(\"Original DataFrame:\\n\", df)\n"
   ]
  },
  {
   "cell_type": "code",
   "execution_count": 17,
   "id": "ea8d9b7d",
   "metadata": {},
   "outputs": [
    {
     "name": "stdout",
     "output_type": "stream",
     "text": [
      "\n",
      "Sorted using Mergesort (Stable):\n",
      "       Name  Age\n",
      "0    Alice   25\n",
      "2  Charlie   25\n",
      "4      Eve   25\n",
      "1      Bob   30\n",
      "3    David   30\n",
      "5    Frank   30\n"
     ]
    }
   ],
   "source": [
    "sorted_merge = df.sort_values(by='Age', kind='mergesort')\n",
    "print(\"\\nSorted using Mergesort (Stable):\\n\", sorted_merge)\n"
   ]
  },
  {
   "cell_type": "code",
   "execution_count": 18,
   "id": "29805eed",
   "metadata": {},
   "outputs": [
    {
     "name": "stdout",
     "output_type": "stream",
     "text": [
      "\n",
      "Sorted using Mergesort (Stable):\n",
      "       Name  Age\n",
      "0    Alice   25\n",
      "2  Charlie   25\n",
      "4      Eve   25\n",
      "1      Bob   30\n",
      "3    David   30\n",
      "5    Frank   30\n"
     ]
    }
   ],
   "source": [
    "sorted_merge = df.sort_values(by='Age', kind='quicksort')\n",
    "print(\"\\nSorted using Mergesort (Stable):\\n\", sorted_merge)\n"
   ]
  },
  {
   "cell_type": "code",
   "execution_count": 20,
   "id": "19a67455",
   "metadata": {},
   "outputs": [
    {
     "name": "stdout",
     "output_type": "stream",
     "text": [
      "\n",
      "Sorted using Heapsort (Not Stable):\n",
      "       Name  Age\n",
      "0  Charlie   25\n",
      "1      Eve   25\n",
      "2    Alice   25\n",
      "3    Frank   30\n",
      "4    David   30\n",
      "5      Bob   30\n"
     ]
    }
   ],
   "source": [
    "sorted_heap = df.sort_values(by='Age', kind='heapsort',ignore_index=True)\n",
    "print(\"\\nSorted using Heapsort (Not Stable):\\n\", sorted_heap)\n"
   ]
  },
  {
   "cell_type": "code",
   "execution_count": null,
   "id": "f2f14195",
   "metadata": {},
   "outputs": [],
   "source": []
  }
 ],
 "metadata": {
  "kernelspec": {
   "display_name": "base",
   "language": "python",
   "name": "python3"
  },
  "language_info": {
   "codemirror_mode": {
    "name": "ipython",
    "version": 3
   },
   "file_extension": ".py",
   "mimetype": "text/x-python",
   "name": "python",
   "nbconvert_exporter": "python",
   "pygments_lexer": "ipython3",
   "version": "3.11.5"
  }
 },
 "nbformat": 4,
 "nbformat_minor": 5
}
