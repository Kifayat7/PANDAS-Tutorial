{
 "cells": [
  {
   "cell_type": "markdown",
   "metadata": {},
   "source": [
    "Pandas Dataframe Index"
   ]
  },
  {
   "cell_type": "code",
   "execution_count": 1,
   "metadata": {},
   "outputs": [
    {
     "name": "stdout",
     "output_type": "stream",
     "text": [
      "      name  age gender salary\n",
      "0  kifayat   23   male    12k\n",
      "1    waqar   29   male    88k\n",
      "2      ali   22   male     6k\n",
      "3    sadiq   36   male    80k\n",
      "RangeIndex(start=0, stop=4, step=1)\n"
     ]
    }
   ],
   "source": [
    "import pandas as pd\n",
    "data ={\"name\":[\"kifayat\",\"waqar\",\"ali\",\"sadiq\"],\n",
    "       \"age\":[23,29,22,36],\n",
    "       \"gender\":[\"male\",\"male\",\"male\",\"male\"],\n",
    "       \"salary\":[\"12k\",\"88k\",\"6k\",\"80k\"]}\n",
    "df=pd.DataFrame(data)\n",
    "print(df)\n",
    "print(df.index)"
   ]
  },
  {
   "cell_type": "code",
   "execution_count": 2,
   "metadata": {},
   "outputs": [
    {
     "name": "stdout",
     "output_type": "stream",
     "text": [
      "         age gender salary\n",
      "name                      \n",
      "kifayat   23   male    12k\n",
      "waqar     29   male    88k\n",
      "ali       22   male     6k\n",
      "sadiq     36   male    80k\n"
     ]
    }
   ],
   "source": [
    "print(df.set_index(\"name\"))"
   ]
  },
  {
   "cell_type": "code",
   "execution_count": 6,
   "metadata": {},
   "outputs": [
    {
     "name": "stdout",
     "output_type": "stream",
     "text": [
      "      name  age gender salary\n",
      "0  kifayat   23   male    12k\n",
      "1    waqar   29   male    88k\n",
      "2      ali   22   male     6k\n",
      "3    sadiq   36   male    80k\n"
     ]
    }
   ],
   "source": [
    "print(df.reset_index(drop=True))\n",
    "#Syntax: DataFrame.reset_index(level=None, drop=False, inplace=False, col_level=0, col_fill=”)\n",
    "# Parameters:\n",
    "# level: Specifies the index level(s) to remove or reset. It can be an integer, string, or a list of levels.\n",
    "# drop: If True, it removes the index column entirely instead of adding it as a column in the DataFrame.\n",
    "# inplace: If True, modifies the original DataFrame in place. By default, it’s False, and a new DataFrame is returned.\n",
    "# col_level: Used to select the level of the column to insert the index labels.\n",
    "# col_fill: If the DataFrame has multiple columns, this determines how missing levels are filled in the column headers."
   ]
  },
  {
   "cell_type": "code",
   "execution_count": 11,
   "metadata": {},
   "outputs": [
    {
     "name": "stdout",
     "output_type": "stream",
     "text": [
      "      name  age gender salary\n",
      "0  kifayat   23   male    12k\n",
      "1    waqar   29   male    88k\n",
      "2      ali   22   male     6k\n",
      "3    sadiq   36   male    80k\n"
     ]
    }
   ],
   "source": [
    "dd=(df.reset_index(drop=True))\n",
    "print(dd)"
   ]
  },
  {
   "cell_type": "code",
   "execution_count": 13,
   "metadata": {},
   "outputs": [
    {
     "name": "stdout",
     "output_type": "stream",
     "text": [
      "Original DataFrame with 'name' as index:\n",
      "          age gender salary\n",
      "name                      \n",
      "kifayat   23   male    12k\n",
      "waqar     29   male    88k\n",
      "ali       22   male     6k\n",
      "sadiq     36   male    80k\n",
      "\n",
      "DataFrame after resetting index:\n",
      "       name  age gender salary\n",
      "0  kifayat   23   male    12k\n",
      "1    waqar   29   male    88k\n",
      "2      ali   22   male     6k\n",
      "3    sadiq   36   male    80k\n"
     ]
    }
   ],
   "source": [
    "import pandas as pd\n",
    "\n",
    "# Creating the DataFrame\n",
    "data = {\n",
    "    \"name\": [\"kifayat\", \"waqar\", \"ali\", \"sadiq\"],\n",
    "    \"age\": [23, 29, 22, 36],\n",
    "    \"gender\": [\"male\", \"male\", \"male\", \"male\"],\n",
    "    \"salary\": [\"12k\", \"88k\", \"6k\", \"80k\"]\n",
    "}\n",
    "\n",
    "df = pd.DataFrame(data)\n",
    "df.set_index(\"name\", inplace=True)  # Setting 'name' as the index\n",
    "print(\"Original DataFrame with 'name' as index:\\n\", df)\n",
    "\n",
    "# Resetting index correctly\n",
    "df_reset = df.reset_index()  # This will properly restore 'name' as a column\n",
    "print(\"\\nDataFrame after resetting index:\\n\", df_reset)\n"
   ]
  },
  {
   "cell_type": "code",
   "execution_count": 12,
   "metadata": {},
   "outputs": [
    {
     "name": "stdout",
     "output_type": "stream",
     "text": [
      "      name  age gender salary\n",
      "0  kifayat   23   male    12k\n",
      "1    waqar   29   male    88k\n",
      "2      ali   22   male     6k\n",
      "3    sadiq   36   male    80k\n"
     ]
    }
   ],
   "source": [
    "print(dd)"
   ]
  },
  {
   "cell_type": "code",
   "execution_count": 15,
   "metadata": {},
   "outputs": [
    {
     "name": "stdout",
     "output_type": "stream",
     "text": [
      "age         23\n",
      "gender    male\n",
      "salary     12k\n",
      "Name: kifayat, dtype: object\n"
     ]
    }
   ],
   "source": [
    "print(df.loc[\"kifayat\"])"
   ]
  },
  {
   "cell_type": "code",
   "execution_count": 16,
   "metadata": {},
   "outputs": [
    {
     "name": "stdout",
     "output_type": "stream",
     "text": [
      "         age gender salary\n",
      "name                      \n",
      "kifayat   23   male    12k\n",
      "sadiq     36   male    80k\n"
     ]
    }
   ],
   "source": [
    "print(df.iloc[0::3])"
   ]
  },
  {
   "cell_type": "code",
   "execution_count": 42,
   "metadata": {},
   "outputs": [
    {
     "name": "stdout",
     "output_type": "stream",
     "text": [
      "0    kifayat\n",
      "1      waqar\n",
      "2        ali\n",
      "3      sadiq\n",
      "Name: name, dtype: object\n"
     ]
    }
   ],
   "source": [
    "print(dd[\"name\"])"
   ]
  },
  {
   "cell_type": "code",
   "execution_count": 46,
   "metadata": {},
   "outputs": [
    {
     "name": "stdout",
     "output_type": "stream",
     "text": [
      "      name salary\n",
      "0  kifayat    12k\n",
      "1    waqar    88k\n",
      "2      ali     6k\n",
      "3    sadiq    80k\n"
     ]
    }
   ],
   "source": [
    "print(dd.loc[:, [\"name\", \"salary\"]])"
   ]
  },
  {
   "cell_type": "code",
   "execution_count": 47,
   "metadata": {},
   "outputs": [
    {
     "name": "stdout",
     "output_type": "stream",
     "text": [
      "Index(['name', 'age', 'gender', 'salary'], dtype='object')\n"
     ]
    }
   ],
   "source": [
    "print(dd.columns)"
   ]
  },
  {
   "cell_type": "code",
   "execution_count": null,
   "metadata": {},
   "outputs": [],
   "source": []
  }
 ],
 "metadata": {
  "kernelspec": {
   "display_name": "base",
   "language": "python",
   "name": "python3"
  },
  "language_info": {
   "codemirror_mode": {
    "name": "ipython",
    "version": 3
   },
   "file_extension": ".py",
   "mimetype": "text/x-python",
   "name": "python",
   "nbconvert_exporter": "python",
   "pygments_lexer": "ipython3",
   "version": "3.11.5"
  }
 },
 "nbformat": 4,
 "nbformat_minor": 2
}
