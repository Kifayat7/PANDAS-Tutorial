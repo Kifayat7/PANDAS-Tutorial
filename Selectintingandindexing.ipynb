{
 "cells": [
  {
   "cell_type": "markdown",
   "metadata": {},
   "source": [
    "Indexing and Selecting Data with Pandas"
   ]
  },
  {
   "cell_type": "markdown",
   "metadata": {},
   "source": [
    "1. indexing the daya with [] operator :\n",
    "The most straightforward way to index data in Pandas is by using the [] operator. This method can be used to select individual columns or multiple columns."
   ]
  },
  {
   "cell_type": "code",
   "execution_count": 1,
   "metadata": {},
   "outputs": [
    {
     "name": "stdout",
     "output_type": "stream",
     "text": [
      "      name  age gender salary\n",
      "0  kifayat   23   male    12k\n",
      "1    waqar   29   male    88k\n",
      "2      ali   22   male     6k\n",
      "3    sadiq   36   male    80k\n",
      "RangeIndex(start=0, stop=4, step=1)\n"
     ]
    }
   ],
   "source": [
    "import pandas as pd\n",
    "data ={\"name\":[\"kifayat\",\"waqar\",\"ali\",\"sadiq\"],\n",
    "       \"age\":[23,29,22,36],\n",
    "       \"gender\":[\"male\",\"male\",\"male\",\"male\"],\n",
    "       \"salary\":[\"12k\",\"88k\",\"6k\",\"80k\"]}\n",
    "df=pd.DataFrame(data)\n",
    "print(df)\n",
    "print(df.index)"
   ]
  },
  {
   "cell_type": "code",
   "execution_count": 2,
   "metadata": {},
   "outputs": [
    {
     "name": "stdout",
     "output_type": "stream",
     "text": [
      "0    kifayat\n",
      "1      waqar\n",
      "2        ali\n",
      "3      sadiq\n",
      "Name: name, dtype: object\n"
     ]
    }
   ],
   "source": [
    "print(df[\"name\"])"
   ]
  },
  {
   "cell_type": "code",
   "execution_count": 4,
   "metadata": {},
   "outputs": [
    {
     "name": "stdout",
     "output_type": "stream",
     "text": [
      "   age     name gender\n",
      "0   23  kifayat   male\n",
      "1   29    waqar   male\n",
      "2   22      ali   male\n",
      "3   36    sadiq   male\n"
     ]
    }
   ],
   "source": [
    "print(df[[\"age\",\"name\",\"gender\"]])"
   ]
  },
  {
   "cell_type": "markdown",
   "metadata": {},
   "source": [
    "2. Indexing a DataFrame using .loc[ ]:\n",
    "The .loc[] function in Pandas is used for selecting data by row and column labels. Unlike the indexing operator, .loc[] can select subsets of rows and columns"
   ]
  },
  {
   "cell_type": "markdown",
   "metadata": {},
   "source": [
    "loc methtod is used to seclecting data in a labels we should specify the row and coloumns "
   ]
  },
  {
   "cell_type": "code",
   "execution_count": null,
   "metadata": {},
   "outputs": [
    {
     "name": "stdout",
     "output_type": "stream",
     "text": [
      "  gender     name\n",
      "0   male  kifayat\n",
      "1   male    waqar\n",
      "2   male      ali\n",
      "3   male    sadiq\n"
     ]
    }
   ],
   "source": [
    "print(df.loc[:,[\"gender\",\"name\"]])"
   ]
  },
  {
   "cell_type": "code",
   "execution_count": 27,
   "metadata": {},
   "outputs": [
    {
     "name": "stdout",
     "output_type": "stream",
     "text": [
      "   age\n",
      "1   29\n",
      "2   22\n"
     ]
    }
   ],
   "source": [
    "print(df.loc[1:2,[\"age\"]])"
   ]
  },
  {
   "cell_type": "code",
   "execution_count": 12,
   "metadata": {},
   "outputs": [
    {
     "name": "stdout",
     "output_type": "stream",
     "text": [
      "name      kifayat\n",
      "age            23\n",
      "gender       male\n",
      "salary        12k\n",
      "Name: 0, dtype: object\n"
     ]
    }
   ],
   "source": [
    "data=df.loc[0]\n",
    "print(data)\n"
   ]
  },
  {
   "cell_type": "code",
   "execution_count": 13,
   "metadata": {},
   "outputs": [
    {
     "data": {
      "text/html": [
       "<div>\n",
       "<style scoped>\n",
       "    .dataframe tbody tr th:only-of-type {\n",
       "        vertical-align: middle;\n",
       "    }\n",
       "\n",
       "    .dataframe tbody tr th {\n",
       "        vertical-align: top;\n",
       "    }\n",
       "\n",
       "    .dataframe thead th {\n",
       "        text-align: right;\n",
       "    }\n",
       "</style>\n",
       "<table border=\"1\" class=\"dataframe\">\n",
       "  <thead>\n",
       "    <tr style=\"text-align: right;\">\n",
       "      <th></th>\n",
       "      <th>name</th>\n",
       "      <th>age</th>\n",
       "      <th>gender</th>\n",
       "      <th>salary</th>\n",
       "    </tr>\n",
       "  </thead>\n",
       "  <tbody>\n",
       "    <tr>\n",
       "      <th>0</th>\n",
       "      <td>kifayat</td>\n",
       "      <td>23</td>\n",
       "      <td>male</td>\n",
       "      <td>12k</td>\n",
       "    </tr>\n",
       "    <tr>\n",
       "      <th>1</th>\n",
       "      <td>waqar</td>\n",
       "      <td>29</td>\n",
       "      <td>male</td>\n",
       "      <td>88k</td>\n",
       "    </tr>\n",
       "    <tr>\n",
       "      <th>2</th>\n",
       "      <td>ali</td>\n",
       "      <td>22</td>\n",
       "      <td>male</td>\n",
       "      <td>6k</td>\n",
       "    </tr>\n",
       "    <tr>\n",
       "      <th>3</th>\n",
       "      <td>sadiq</td>\n",
       "      <td>36</td>\n",
       "      <td>male</td>\n",
       "      <td>80k</td>\n",
       "    </tr>\n",
       "  </tbody>\n",
       "</table>\n",
       "</div>"
      ],
      "text/plain": [
       "      name  age gender salary\n",
       "0  kifayat   23   male    12k\n",
       "1    waqar   29   male    88k\n",
       "2      ali   22   male     6k\n",
       "3    sadiq   36   male    80k"
      ]
     },
     "execution_count": 13,
     "metadata": {},
     "output_type": "execute_result"
    }
   ],
   "source": [
    "df"
   ]
  },
  {
   "cell_type": "markdown",
   "metadata": {},
   "source": [
    "2. Indexing a DataFrame using .iloc[ ]\n",
    "<> . The .iloc[] function in Pandas allows data selection based on integer positions (rather than labels). It is similar to .loc[], but only accepts integer-based indices to specify rows and columns."
   ]
  },
  {
   "cell_type": "code",
   "execution_count": 24,
   "metadata": {},
   "outputs": [
    {
     "name": "stdout",
     "output_type": "stream",
     "text": [
      "   age salary\n",
      "1   29    88k\n"
     ]
    }
   ],
   "source": [
    "print(df.iloc[1:2:,[1,3]])"
   ]
  },
  {
   "cell_type": "markdown",
   "metadata": {},
   "source": [
    "# Slicing Pandas Dataframe"
   ]
  },
  {
   "cell_type": "code",
   "execution_count": 29,
   "metadata": {},
   "outputs": [
    {
     "data": {
      "text/html": [
       "<div>\n",
       "<style scoped>\n",
       "    .dataframe tbody tr th:only-of-type {\n",
       "        vertical-align: middle;\n",
       "    }\n",
       "\n",
       "    .dataframe tbody tr th {\n",
       "        vertical-align: top;\n",
       "    }\n",
       "\n",
       "    .dataframe thead th {\n",
       "        text-align: right;\n",
       "    }\n",
       "</style>\n",
       "<table border=\"1\" class=\"dataframe\">\n",
       "  <thead>\n",
       "    <tr style=\"text-align: right;\">\n",
       "      <th></th>\n",
       "      <th>Name</th>\n",
       "      <th>Age</th>\n",
       "      <th>Weight</th>\n",
       "      <th>Salary</th>\n",
       "    </tr>\n",
       "  </thead>\n",
       "  <tbody>\n",
       "    <tr>\n",
       "      <th>0</th>\n",
       "      <td>M.S.Dhoni</td>\n",
       "      <td>36</td>\n",
       "      <td>75</td>\n",
       "      <td>5428000</td>\n",
       "    </tr>\n",
       "    <tr>\n",
       "      <th>1</th>\n",
       "      <td>A.B.D Villers</td>\n",
       "      <td>38</td>\n",
       "      <td>74</td>\n",
       "      <td>3428000</td>\n",
       "    </tr>\n",
       "    <tr>\n",
       "      <th>2</th>\n",
       "      <td>V.Kohli</td>\n",
       "      <td>31</td>\n",
       "      <td>70</td>\n",
       "      <td>8428000</td>\n",
       "    </tr>\n",
       "    <tr>\n",
       "      <th>3</th>\n",
       "      <td>S.Smith</td>\n",
       "      <td>34</td>\n",
       "      <td>80</td>\n",
       "      <td>4428000</td>\n",
       "    </tr>\n",
       "    <tr>\n",
       "      <th>4</th>\n",
       "      <td>C.Gayle</td>\n",
       "      <td>40</td>\n",
       "      <td>100</td>\n",
       "      <td>4528000</td>\n",
       "    </tr>\n",
       "    <tr>\n",
       "      <th>5</th>\n",
       "      <td>J.Root</td>\n",
       "      <td>33</td>\n",
       "      <td>72</td>\n",
       "      <td>7028000</td>\n",
       "    </tr>\n",
       "    <tr>\n",
       "      <th>6</th>\n",
       "      <td>K.Peterson</td>\n",
       "      <td>42</td>\n",
       "      <td>85</td>\n",
       "      <td>2528000</td>\n",
       "    </tr>\n",
       "  </tbody>\n",
       "</table>\n",
       "</div>"
      ],
      "text/plain": [
       "            Name  Age  Weight   Salary\n",
       "0      M.S.Dhoni   36      75  5428000\n",
       "1  A.B.D Villers   38      74  3428000\n",
       "2        V.Kohli   31      70  8428000\n",
       "3        S.Smith   34      80  4428000\n",
       "4        C.Gayle   40     100  4528000\n",
       "5         J.Root   33      72  7028000\n",
       "6     K.Peterson   42      85  2528000"
      ]
     },
     "execution_count": 29,
     "metadata": {},
     "output_type": "execute_result"
    }
   ],
   "source": [
    "import pandas as pd\n",
    "\n",
    "# Initializing the nested list with Data set\n",
    "player_list = [['M.S.Dhoni', 36, 75, 5428000],\n",
    "               ['A.B.D Villers', 38, 74, 3428000],\n",
    "               ['V.Kohli', 31, 70, 8428000],\n",
    "               ['S.Smith', 34, 80, 4428000],\n",
    "               ['C.Gayle', 40, 100, 4528000],\n",
    "               ['J.Root', 33, 72, 7028000],\n",
    "               ['K.Peterson', 42, 85, 2528000]]\n",
    "\n",
    "# creating a pandas dataframe\n",
    "dff = pd.DataFrame(player_list, columns=['Name', 'Age', 'Weight', 'Salary'])\n",
    "df # data frame before slicing\n"
   ]
  },
  {
   "cell_type": "markdown",
   "metadata": {},
   "source": [
    "# 1. Slicing Using iloc :"
   ]
  },
  {
   "cell_type": "markdown",
   "metadata": {},
   "source": [
    " \n",
    "\n",
    "A. Slicing Rows in dataframe in python"
   ]
  },
  {
   "cell_type": "code",
   "execution_count": 32,
   "metadata": {},
   "outputs": [
    {
     "name": "stdout",
     "output_type": "stream",
     "text": [
      "            Name  Age  Weight   Salary\n",
      "0      M.S.Dhoni   36      75  5428000\n",
      "1  A.B.D Villers   38      74  3428000\n",
      "2        V.Kohli   31      70  8428000\n",
      "3        S.Smith   34      80  4428000\n"
     ]
    }
   ],
   "source": [
    "print(dff.iloc[0:4])"
   ]
  },
  {
   "cell_type": "markdown",
   "metadata": {},
   "source": [
    "B. Slicing Columns in dataframe in python"
   ]
  },
  {
   "cell_type": "code",
   "execution_count": 33,
   "metadata": {},
   "outputs": [
    {
     "name": "stdout",
     "output_type": "stream",
     "text": [
      "            Name  Age\n",
      "0      M.S.Dhoni   36\n",
      "1  A.B.D Villers   38\n",
      "2        V.Kohli   31\n",
      "3        S.Smith   34\n",
      "4        C.Gayle   40\n",
      "5         J.Root   33\n",
      "6     K.Peterson   42\n"
     ]
    }
   ],
   "source": [
    "print(dff.iloc[:, 0:2])"
   ]
  },
  {
   "cell_type": "markdown",
   "metadata": {},
   "source": [
    "C. Selecting a Specific Cell  in Dataframe in Python"
   ]
  },
  {
   "cell_type": "code",
   "execution_count": 35,
   "metadata": {},
   "outputs": [
    {
     "name": "stdout",
     "output_type": "stream",
     "text": [
      "8428000\n"
     ]
    }
   ],
   "source": [
    "print(dff.iloc[2,3])"
   ]
  },
  {
   "cell_type": "markdown",
   "metadata": {},
   "source": [
    "D. Using Boolean Conditions  in Dataframe in Python"
   ]
  },
  {
   "cell_type": "code",
   "execution_count": 36,
   "metadata": {},
   "outputs": [
    {
     "name": "stdout",
     "output_type": "stream",
     "text": [
      "            Name  Age  Weight   Salary\n",
      "0      M.S.Dhoni   36      75  5428000\n",
      "1  A.B.D Villers   38      74  3428000\n",
      "4        C.Gayle   40     100  4528000\n",
      "6     K.Peterson   42      85  2528000\n"
     ]
    }
   ],
   "source": [
    "print(dff[dff['Age'] > 35].iloc[:, :])"
   ]
  },
  {
   "cell_type": "markdown",
   "metadata": {},
   "source": [
    "# 2. Slicing Using loc[]"
   ]
  },
  {
   "cell_type": "code",
   "execution_count": 40,
   "metadata": {},
   "outputs": [
    {
     "name": "stdout",
     "output_type": "stream",
     "text": [
      "            Name  Age  Weight   Salary\n",
      "0      M.S.Dhoni   36      75  5428000\n",
      "1  A.B.D Villers   38      74  3428000\n",
      "2        V.Kohli   31      70  8428000\n",
      "3        S.Smith   34      80  4428000\n",
      "4        C.Gayle   40     100  4528000\n"
     ]
    }
   ],
   "source": [
    "print(dff.loc[0:4])"
   ]
  },
  {
   "cell_type": "code",
   "execution_count": null,
   "metadata": {},
   "outputs": [],
   "source": [
    "print(dff.loc[0:4,\"Name\"])"
   ]
  },
  {
   "cell_type": "code",
   "execution_count": 42,
   "metadata": {},
   "outputs": [
    {
     "name": "stdout",
     "output_type": "stream",
     "text": [
      "               Age  Weight   Salary\n",
      "Name                               \n",
      "M.S.Dhoni       36      75  5428000\n",
      "A.B.D Villers   38      74  3428000\n",
      "V.Kohli         31      70  8428000\n",
      "S.Smith         34      80  4428000\n",
      "C.Gayle         40     100  4528000\n",
      "J.Root          33      72  7028000\n",
      "K.Peterson      42      85  2528000\n"
     ]
    }
   ],
   "source": [
    "data=dff.set_index(\"Name\")\n",
    "print(data)"
   ]
  },
  {
   "cell_type": "code",
   "execution_count": 43,
   "metadata": {},
   "outputs": [
    {
     "name": "stdout",
     "output_type": "stream",
     "text": [
      "            Age  Weight   Salary\n",
      "Name                            \n",
      "V.Kohli      31      70  8428000\n",
      "S.Smith      34      80  4428000\n",
      "C.Gayle      40     100  4528000\n",
      "J.Root       33      72  7028000\n",
      "K.Peterson   42      85  2528000\n"
     ]
    }
   ],
   "source": [
    "print(data.loc[\"V.Kohli\":\"K.Peterson\"])"
   ]
  },
  {
   "cell_type": "markdown",
   "metadata": {},
   "source": [
    "print(data.lio)"
   ]
  }
 ],
 "metadata": {
  "kernelspec": {
   "display_name": "base",
   "language": "python",
   "name": "python3"
  },
  "language_info": {
   "codemirror_mode": {
    "name": "ipython",
    "version": 3
   },
   "file_extension": ".py",
   "mimetype": "text/x-python",
   "name": "python",
   "nbconvert_exporter": "python",
   "pygments_lexer": "ipython3",
   "version": "3.11.5"
  }
 },
 "nbformat": 4,
 "nbformat_minor": 2
}
